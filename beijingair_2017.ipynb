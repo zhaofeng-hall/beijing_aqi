{
 "cells": [
  {
   "cell_type": "code",
   "execution_count": 1,
   "metadata": {},
   "outputs": [],
   "source": [
    "import pandas as pd\n",
    "import numpy as np"
   ]
  },
  {
   "cell_type": "markdown",
   "metadata": {},
   "source": [
    "### By using `read_csv(engine, encoding)`, solving the utf-8 error, and reading the file correctly. \n",
    "reference: https://pandas.pydata.org/pandas-docs/stable/reference/api/pandas.read_csv.html"
   ]
  },
  {
   "cell_type": "code",
   "execution_count": 2,
   "metadata": {},
   "outputs": [
    {
     "data": {
      "text/html": [
       "<div>\n",
       "<style scoped>\n",
       "    .dataframe tbody tr th:only-of-type {\n",
       "        vertical-align: middle;\n",
       "    }\n",
       "\n",
       "    .dataframe tbody tr th {\n",
       "        vertical-align: top;\n",
       "    }\n",
       "\n",
       "    .dataframe thead th {\n",
       "        text-align: right;\n",
       "    }\n",
       "</style>\n",
       "<table border=\"1\" class=\"dataframe\">\n",
       "  <thead>\n",
       "    <tr style=\"text-align: right;\">\n",
       "      <th></th>\n",
       "      <th>Site</th>\n",
       "      <th>Parameter</th>\n",
       "      <th>Date (LST)</th>\n",
       "      <th>Year</th>\n",
       "      <th>Month</th>\n",
       "      <th>Day</th>\n",
       "      <th>Hour</th>\n",
       "      <th>Value</th>\n",
       "      <th>Unit</th>\n",
       "      <th>Duration</th>\n",
       "      <th>QC Name</th>\n",
       "    </tr>\n",
       "  </thead>\n",
       "  <tbody>\n",
       "    <tr>\n",
       "      <th>0</th>\n",
       "      <td>Beijing</td>\n",
       "      <td>PM2.5</td>\n",
       "      <td>2017-01-01 00:00:00</td>\n",
       "      <td>2017</td>\n",
       "      <td>1</td>\n",
       "      <td>1</td>\n",
       "      <td>0</td>\n",
       "      <td>505</td>\n",
       "      <td>µg/m³</td>\n",
       "      <td>1 Hr</td>\n",
       "      <td>Valid</td>\n",
       "    </tr>\n",
       "    <tr>\n",
       "      <th>1</th>\n",
       "      <td>Beijing</td>\n",
       "      <td>PM2.5</td>\n",
       "      <td>2017-01-01 01:00:00</td>\n",
       "      <td>2017</td>\n",
       "      <td>1</td>\n",
       "      <td>1</td>\n",
       "      <td>1</td>\n",
       "      <td>485</td>\n",
       "      <td>µg/m³</td>\n",
       "      <td>1 Hr</td>\n",
       "      <td>Valid</td>\n",
       "    </tr>\n",
       "    <tr>\n",
       "      <th>2</th>\n",
       "      <td>Beijing</td>\n",
       "      <td>PM2.5</td>\n",
       "      <td>2017-01-01 02:00:00</td>\n",
       "      <td>2017</td>\n",
       "      <td>1</td>\n",
       "      <td>1</td>\n",
       "      <td>2</td>\n",
       "      <td>466</td>\n",
       "      <td>µg/m³</td>\n",
       "      <td>1 Hr</td>\n",
       "      <td>Valid</td>\n",
       "    </tr>\n",
       "    <tr>\n",
       "      <th>3</th>\n",
       "      <td>Beijing</td>\n",
       "      <td>PM2.5</td>\n",
       "      <td>2017-01-01 03:00:00</td>\n",
       "      <td>2017</td>\n",
       "      <td>1</td>\n",
       "      <td>1</td>\n",
       "      <td>3</td>\n",
       "      <td>435</td>\n",
       "      <td>µg/m³</td>\n",
       "      <td>1 Hr</td>\n",
       "      <td>Valid</td>\n",
       "    </tr>\n",
       "    <tr>\n",
       "      <th>4</th>\n",
       "      <td>Beijing</td>\n",
       "      <td>PM2.5</td>\n",
       "      <td>2017-01-01 04:00:00</td>\n",
       "      <td>2017</td>\n",
       "      <td>1</td>\n",
       "      <td>1</td>\n",
       "      <td>4</td>\n",
       "      <td>405</td>\n",
       "      <td>µg/m³</td>\n",
       "      <td>1 Hr</td>\n",
       "      <td>Valid</td>\n",
       "    </tr>\n",
       "  </tbody>\n",
       "</table>\n",
       "</div>"
      ],
      "text/plain": [
       "      Site Parameter          Date (LST)  Year  Month  Day  Hour  Value  \\\n",
       "0  Beijing     PM2.5 2017-01-01 00:00:00  2017      1    1     0    505   \n",
       "1  Beijing     PM2.5 2017-01-01 01:00:00  2017      1    1     1    485   \n",
       "2  Beijing     PM2.5 2017-01-01 02:00:00  2017      1    1     2    466   \n",
       "3  Beijing     PM2.5 2017-01-01 03:00:00  2017      1    1     3    435   \n",
       "4  Beijing     PM2.5 2017-01-01 04:00:00  2017      1    1     4    405   \n",
       "\n",
       "    Unit Duration QC Name  \n",
       "0  µg/m³     1 Hr   Valid  \n",
       "1  µg/m³     1 Hr   Valid  \n",
       "2  µg/m³     1 Hr   Valid  \n",
       "3  µg/m³     1 Hr   Valid  \n",
       "4  µg/m³     1 Hr   Valid  "
      ]
     },
     "execution_count": 2,
     "metadata": {},
     "output_type": "execute_result"
    }
   ],
   "source": [
    "air_2017 = pd.read_csv('Beijing_2017_HourlyPM25_created20170803.csv', skiprows=3, engine ='python', encoding = 'latin_1', parse_dates=[2])\n",
    "air_2017.head()"
   ]
  },
  {
   "cell_type": "code",
   "execution_count": 3,
   "metadata": {},
   "outputs": [
    {
     "data": {
      "text/html": [
       "<div>\n",
       "<style scoped>\n",
       "    .dataframe tbody tr th:only-of-type {\n",
       "        vertical-align: middle;\n",
       "    }\n",
       "\n",
       "    .dataframe tbody tr th {\n",
       "        vertical-align: top;\n",
       "    }\n",
       "\n",
       "    .dataframe thead th {\n",
       "        text-align: right;\n",
       "    }\n",
       "</style>\n",
       "<table border=\"1\" class=\"dataframe\">\n",
       "  <thead>\n",
       "    <tr style=\"text-align: right;\">\n",
       "      <th></th>\n",
       "      <th>Site</th>\n",
       "      <th>Parameter</th>\n",
       "      <th>Date (LST)</th>\n",
       "      <th>Year</th>\n",
       "      <th>Month</th>\n",
       "      <th>Day</th>\n",
       "      <th>Hour</th>\n",
       "      <th>Value</th>\n",
       "      <th>Unit</th>\n",
       "      <th>Duration</th>\n",
       "      <th>QC Name</th>\n",
       "    </tr>\n",
       "  </thead>\n",
       "  <tbody>\n",
       "    <tr>\n",
       "      <th>4339</th>\n",
       "      <td>Beijing</td>\n",
       "      <td>PM2.5</td>\n",
       "      <td>2017-06-30 19:00:00</td>\n",
       "      <td>2017</td>\n",
       "      <td>6</td>\n",
       "      <td>30</td>\n",
       "      <td>19</td>\n",
       "      <td>51</td>\n",
       "      <td>µg/m³</td>\n",
       "      <td>1 Hr</td>\n",
       "      <td>Valid</td>\n",
       "    </tr>\n",
       "    <tr>\n",
       "      <th>4340</th>\n",
       "      <td>Beijing</td>\n",
       "      <td>PM2.5</td>\n",
       "      <td>2017-06-30 20:00:00</td>\n",
       "      <td>2017</td>\n",
       "      <td>6</td>\n",
       "      <td>30</td>\n",
       "      <td>20</td>\n",
       "      <td>68</td>\n",
       "      <td>µg/m³</td>\n",
       "      <td>1 Hr</td>\n",
       "      <td>Valid</td>\n",
       "    </tr>\n",
       "    <tr>\n",
       "      <th>4341</th>\n",
       "      <td>Beijing</td>\n",
       "      <td>PM2.5</td>\n",
       "      <td>2017-06-30 21:00:00</td>\n",
       "      <td>2017</td>\n",
       "      <td>6</td>\n",
       "      <td>30</td>\n",
       "      <td>21</td>\n",
       "      <td>61</td>\n",
       "      <td>µg/m³</td>\n",
       "      <td>1 Hr</td>\n",
       "      <td>Valid</td>\n",
       "    </tr>\n",
       "    <tr>\n",
       "      <th>4342</th>\n",
       "      <td>Beijing</td>\n",
       "      <td>PM2.5</td>\n",
       "      <td>2017-06-30 22:00:00</td>\n",
       "      <td>2017</td>\n",
       "      <td>6</td>\n",
       "      <td>30</td>\n",
       "      <td>22</td>\n",
       "      <td>49</td>\n",
       "      <td>µg/m³</td>\n",
       "      <td>1 Hr</td>\n",
       "      <td>Valid</td>\n",
       "    </tr>\n",
       "    <tr>\n",
       "      <th>4343</th>\n",
       "      <td>Beijing</td>\n",
       "      <td>PM2.5</td>\n",
       "      <td>2017-06-30 23:00:00</td>\n",
       "      <td>2017</td>\n",
       "      <td>6</td>\n",
       "      <td>30</td>\n",
       "      <td>23</td>\n",
       "      <td>55</td>\n",
       "      <td>µg/m³</td>\n",
       "      <td>1 Hr</td>\n",
       "      <td>Valid</td>\n",
       "    </tr>\n",
       "  </tbody>\n",
       "</table>\n",
       "</div>"
      ],
      "text/plain": [
       "         Site Parameter          Date (LST)  Year  Month  Day  Hour  Value  \\\n",
       "4339  Beijing     PM2.5 2017-06-30 19:00:00  2017      6   30    19     51   \n",
       "4340  Beijing     PM2.5 2017-06-30 20:00:00  2017      6   30    20     68   \n",
       "4341  Beijing     PM2.5 2017-06-30 21:00:00  2017      6   30    21     61   \n",
       "4342  Beijing     PM2.5 2017-06-30 22:00:00  2017      6   30    22     49   \n",
       "4343  Beijing     PM2.5 2017-06-30 23:00:00  2017      6   30    23     55   \n",
       "\n",
       "       Unit Duration QC Name  \n",
       "4339  µg/m³     1 Hr   Valid  \n",
       "4340  µg/m³     1 Hr   Valid  \n",
       "4341  µg/m³     1 Hr   Valid  \n",
       "4342  µg/m³     1 Hr   Valid  \n",
       "4343  µg/m³     1 Hr   Valid  "
      ]
     },
     "execution_count": 3,
     "metadata": {},
     "output_type": "execute_result"
    }
   ],
   "source": [
    "air_2017.tail()"
   ]
  },
  {
   "cell_type": "code",
   "execution_count": 4,
   "metadata": {},
   "outputs": [
    {
     "data": {
      "text/plain": [
       "RangeIndex(start=0, stop=4344, step=1)"
      ]
     },
     "execution_count": 4,
     "metadata": {},
     "output_type": "execute_result"
    }
   ],
   "source": [
    "air_2017.index"
   ]
  },
  {
   "cell_type": "code",
   "execution_count": 5,
   "metadata": {},
   "outputs": [
    {
     "name": "stdout",
     "output_type": "stream",
     "text": [
      "<class 'pandas.core.frame.DataFrame'>\n",
      "RangeIndex: 4344 entries, 0 to 4343\n",
      "Data columns (total 11 columns):\n",
      " #   Column      Non-Null Count  Dtype         \n",
      "---  ------      --------------  -----         \n",
      " 0   Site        4344 non-null   object        \n",
      " 1   Parameter   4344 non-null   object        \n",
      " 2   Date (LST)  4344 non-null   datetime64[ns]\n",
      " 3   Year        4344 non-null   int64         \n",
      " 4   Month       4344 non-null   int64         \n",
      " 5   Day         4344 non-null   int64         \n",
      " 6   Hour        4344 non-null   int64         \n",
      " 7   Value       4344 non-null   int64         \n",
      " 8   Unit        4344 non-null   object        \n",
      " 9   Duration    4344 non-null   object        \n",
      " 10  QC Name     4344 non-null   object        \n",
      "dtypes: datetime64[ns](1), int64(5), object(5)\n",
      "memory usage: 373.4+ KB\n"
     ]
    }
   ],
   "source": [
    "air_2017.info()"
   ]
  },
  {
   "cell_type": "code",
   "execution_count": 6,
   "metadata": {},
   "outputs": [
    {
     "data": {
      "text/plain": [
       "Index(['Site', 'Parameter', 'Date (LST)', 'Year', 'Month', 'Day', 'Hour',\n",
       "       'Value', 'Unit', 'Duration', 'QC Name'],\n",
       "      dtype='object')"
      ]
     },
     "execution_count": 6,
     "metadata": {},
     "output_type": "execute_result"
    }
   ],
   "source": [
    "air_2017.columns"
   ]
  },
  {
   "cell_type": "markdown",
   "metadata": {},
   "source": [
    "### Looking for the missing data. According to *the U.S. Department of State air quality files*, Missing values are listed as -999 but not null. In this case, we can't filter boolean by using 'dropna( )'."
   ]
  },
  {
   "cell_type": "code",
   "execution_count": 37,
   "metadata": {},
   "outputs": [
    {
     "data": {
      "text/html": [
       "<div>\n",
       "<style scoped>\n",
       "    .dataframe tbody tr th:only-of-type {\n",
       "        vertical-align: middle;\n",
       "    }\n",
       "\n",
       "    .dataframe tbody tr th {\n",
       "        vertical-align: top;\n",
       "    }\n",
       "\n",
       "    .dataframe thead th {\n",
       "        text-align: right;\n",
       "    }\n",
       "</style>\n",
       "<table border=\"1\" class=\"dataframe\">\n",
       "  <thead>\n",
       "    <tr style=\"text-align: right;\">\n",
       "      <th></th>\n",
       "      <th>Site</th>\n",
       "      <th>Parameter</th>\n",
       "      <th>Date (LST)</th>\n",
       "      <th>Year</th>\n",
       "      <th>Month</th>\n",
       "      <th>Day</th>\n",
       "      <th>Hour</th>\n",
       "      <th>Value</th>\n",
       "      <th>Unit</th>\n",
       "      <th>Duration</th>\n",
       "      <th>QC Name</th>\n",
       "    </tr>\n",
       "  </thead>\n",
       "  <tbody>\n",
       "  </tbody>\n",
       "</table>\n",
       "</div>"
      ],
      "text/plain": [
       "Empty DataFrame\n",
       "Columns: [Site, Parameter, Date (LST), Year, Month, Day, Hour, Value, Unit, Duration, QC Name]\n",
       "Index: []"
      ]
     },
     "execution_count": 37,
     "metadata": {},
     "output_type": "execute_result"
    }
   ],
   "source": [
    "air_2017_filtered = air_2017[air_2017['Value'] == -999]\n",
    "air_2017_filtered"
   ]
  },
  {
   "cell_type": "markdown",
   "metadata": {},
   "source": [
    "### Data cleaning. By using `drop( )`, removing the rows with missing data."
   ]
  },
  {
   "cell_type": "code",
   "execution_count": 38,
   "metadata": {},
   "outputs": [
    {
     "data": {
      "text/html": [
       "<div>\n",
       "<style scoped>\n",
       "    .dataframe tbody tr th:only-of-type {\n",
       "        vertical-align: middle;\n",
       "    }\n",
       "\n",
       "    .dataframe tbody tr th {\n",
       "        vertical-align: top;\n",
       "    }\n",
       "\n",
       "    .dataframe thead th {\n",
       "        text-align: right;\n",
       "    }\n",
       "</style>\n",
       "<table border=\"1\" class=\"dataframe\">\n",
       "  <thead>\n",
       "    <tr style=\"text-align: right;\">\n",
       "      <th></th>\n",
       "      <th>Site</th>\n",
       "      <th>Parameter</th>\n",
       "      <th>Date (LST)</th>\n",
       "      <th>Year</th>\n",
       "      <th>Month</th>\n",
       "      <th>Day</th>\n",
       "      <th>Hour</th>\n",
       "      <th>Value</th>\n",
       "      <th>Unit</th>\n",
       "      <th>Duration</th>\n",
       "      <th>QC Name</th>\n",
       "    </tr>\n",
       "  </thead>\n",
       "  <tbody>\n",
       "    <tr>\n",
       "      <th>0</th>\n",
       "      <td>Beijing</td>\n",
       "      <td>PM2.5</td>\n",
       "      <td>2017-01-01 00:00:00</td>\n",
       "      <td>2017</td>\n",
       "      <td>1</td>\n",
       "      <td>1</td>\n",
       "      <td>0</td>\n",
       "      <td>505</td>\n",
       "      <td>µg/m³</td>\n",
       "      <td>1 Hr</td>\n",
       "      <td>Valid</td>\n",
       "    </tr>\n",
       "    <tr>\n",
       "      <th>1</th>\n",
       "      <td>Beijing</td>\n",
       "      <td>PM2.5</td>\n",
       "      <td>2017-01-01 01:00:00</td>\n",
       "      <td>2017</td>\n",
       "      <td>1</td>\n",
       "      <td>1</td>\n",
       "      <td>1</td>\n",
       "      <td>485</td>\n",
       "      <td>µg/m³</td>\n",
       "      <td>1 Hr</td>\n",
       "      <td>Valid</td>\n",
       "    </tr>\n",
       "    <tr>\n",
       "      <th>2</th>\n",
       "      <td>Beijing</td>\n",
       "      <td>PM2.5</td>\n",
       "      <td>2017-01-01 02:00:00</td>\n",
       "      <td>2017</td>\n",
       "      <td>1</td>\n",
       "      <td>1</td>\n",
       "      <td>2</td>\n",
       "      <td>466</td>\n",
       "      <td>µg/m³</td>\n",
       "      <td>1 Hr</td>\n",
       "      <td>Valid</td>\n",
       "    </tr>\n",
       "    <tr>\n",
       "      <th>3</th>\n",
       "      <td>Beijing</td>\n",
       "      <td>PM2.5</td>\n",
       "      <td>2017-01-01 03:00:00</td>\n",
       "      <td>2017</td>\n",
       "      <td>1</td>\n",
       "      <td>1</td>\n",
       "      <td>3</td>\n",
       "      <td>435</td>\n",
       "      <td>µg/m³</td>\n",
       "      <td>1 Hr</td>\n",
       "      <td>Valid</td>\n",
       "    </tr>\n",
       "    <tr>\n",
       "      <th>4</th>\n",
       "      <td>Beijing</td>\n",
       "      <td>PM2.5</td>\n",
       "      <td>2017-01-01 04:00:00</td>\n",
       "      <td>2017</td>\n",
       "      <td>1</td>\n",
       "      <td>1</td>\n",
       "      <td>4</td>\n",
       "      <td>405</td>\n",
       "      <td>µg/m³</td>\n",
       "      <td>1 Hr</td>\n",
       "      <td>Valid</td>\n",
       "    </tr>\n",
       "    <tr>\n",
       "      <th>...</th>\n",
       "      <td>...</td>\n",
       "      <td>...</td>\n",
       "      <td>...</td>\n",
       "      <td>...</td>\n",
       "      <td>...</td>\n",
       "      <td>...</td>\n",
       "      <td>...</td>\n",
       "      <td>...</td>\n",
       "      <td>...</td>\n",
       "      <td>...</td>\n",
       "      <td>...</td>\n",
       "    </tr>\n",
       "    <tr>\n",
       "      <th>4339</th>\n",
       "      <td>Beijing</td>\n",
       "      <td>PM2.5</td>\n",
       "      <td>2017-06-30 19:00:00</td>\n",
       "      <td>2017</td>\n",
       "      <td>6</td>\n",
       "      <td>30</td>\n",
       "      <td>19</td>\n",
       "      <td>51</td>\n",
       "      <td>µg/m³</td>\n",
       "      <td>1 Hr</td>\n",
       "      <td>Valid</td>\n",
       "    </tr>\n",
       "    <tr>\n",
       "      <th>4340</th>\n",
       "      <td>Beijing</td>\n",
       "      <td>PM2.5</td>\n",
       "      <td>2017-06-30 20:00:00</td>\n",
       "      <td>2017</td>\n",
       "      <td>6</td>\n",
       "      <td>30</td>\n",
       "      <td>20</td>\n",
       "      <td>68</td>\n",
       "      <td>µg/m³</td>\n",
       "      <td>1 Hr</td>\n",
       "      <td>Valid</td>\n",
       "    </tr>\n",
       "    <tr>\n",
       "      <th>4341</th>\n",
       "      <td>Beijing</td>\n",
       "      <td>PM2.5</td>\n",
       "      <td>2017-06-30 21:00:00</td>\n",
       "      <td>2017</td>\n",
       "      <td>6</td>\n",
       "      <td>30</td>\n",
       "      <td>21</td>\n",
       "      <td>61</td>\n",
       "      <td>µg/m³</td>\n",
       "      <td>1 Hr</td>\n",
       "      <td>Valid</td>\n",
       "    </tr>\n",
       "    <tr>\n",
       "      <th>4342</th>\n",
       "      <td>Beijing</td>\n",
       "      <td>PM2.5</td>\n",
       "      <td>2017-06-30 22:00:00</td>\n",
       "      <td>2017</td>\n",
       "      <td>6</td>\n",
       "      <td>30</td>\n",
       "      <td>22</td>\n",
       "      <td>49</td>\n",
       "      <td>µg/m³</td>\n",
       "      <td>1 Hr</td>\n",
       "      <td>Valid</td>\n",
       "    </tr>\n",
       "    <tr>\n",
       "      <th>4343</th>\n",
       "      <td>Beijing</td>\n",
       "      <td>PM2.5</td>\n",
       "      <td>2017-06-30 23:00:00</td>\n",
       "      <td>2017</td>\n",
       "      <td>6</td>\n",
       "      <td>30</td>\n",
       "      <td>23</td>\n",
       "      <td>55</td>\n",
       "      <td>µg/m³</td>\n",
       "      <td>1 Hr</td>\n",
       "      <td>Valid</td>\n",
       "    </tr>\n",
       "  </tbody>\n",
       "</table>\n",
       "<p>4316 rows × 11 columns</p>\n",
       "</div>"
      ],
      "text/plain": [
       "         Site Parameter          Date (LST)  Year  Month  Day  Hour  Value  \\\n",
       "0     Beijing     PM2.5 2017-01-01 00:00:00  2017      1    1     0    505   \n",
       "1     Beijing     PM2.5 2017-01-01 01:00:00  2017      1    1     1    485   \n",
       "2     Beijing     PM2.5 2017-01-01 02:00:00  2017      1    1     2    466   \n",
       "3     Beijing     PM2.5 2017-01-01 03:00:00  2017      1    1     3    435   \n",
       "4     Beijing     PM2.5 2017-01-01 04:00:00  2017      1    1     4    405   \n",
       "...       ...       ...                 ...   ...    ...  ...   ...    ...   \n",
       "4339  Beijing     PM2.5 2017-06-30 19:00:00  2017      6   30    19     51   \n",
       "4340  Beijing     PM2.5 2017-06-30 20:00:00  2017      6   30    20     68   \n",
       "4341  Beijing     PM2.5 2017-06-30 21:00:00  2017      6   30    21     61   \n",
       "4342  Beijing     PM2.5 2017-06-30 22:00:00  2017      6   30    22     49   \n",
       "4343  Beijing     PM2.5 2017-06-30 23:00:00  2017      6   30    23     55   \n",
       "\n",
       "       Unit Duration QC Name  \n",
       "0     µg/m³     1 Hr   Valid  \n",
       "1     µg/m³     1 Hr   Valid  \n",
       "2     µg/m³     1 Hr   Valid  \n",
       "3     µg/m³     1 Hr   Valid  \n",
       "4     µg/m³     1 Hr   Valid  \n",
       "...     ...      ...     ...  \n",
       "4339  µg/m³     1 Hr   Valid  \n",
       "4340  µg/m³     1 Hr   Valid  \n",
       "4341  µg/m³     1 Hr   Valid  \n",
       "4342  µg/m³     1 Hr   Valid  \n",
       "4343  µg/m³     1 Hr   Valid  \n",
       "\n",
       "[4316 rows x 11 columns]"
      ]
     },
     "execution_count": 38,
     "metadata": {},
     "output_type": "execute_result"
    }
   ],
   "source": [
    "air_2017 = air_2017.drop(air_2017.loc[air_2017['Value'] == -999].index)\n",
    "air_2017"
   ]
  },
  {
   "cell_type": "code",
   "execution_count": 39,
   "metadata": {},
   "outputs": [
    {
     "data": {
      "text/plain": [
       "684"
      ]
     },
     "execution_count": 39,
     "metadata": {},
     "output_type": "execute_result"
    }
   ],
   "source": [
    "air_2017.Value.max()"
   ]
  },
  {
   "cell_type": "code",
   "execution_count": 40,
   "metadata": {},
   "outputs": [
    {
     "data": {
      "text/plain": [
       "70.07738646895274"
      ]
     },
     "execution_count": 40,
     "metadata": {},
     "output_type": "execute_result"
    }
   ],
   "source": [
    "air_2017.Value.mean()"
   ]
  },
  {
   "cell_type": "code",
   "execution_count": 41,
   "metadata": {},
   "outputs": [
    {
     "data": {
      "text/plain": [
       "43.0"
      ]
     },
     "execution_count": 41,
     "metadata": {},
     "output_type": "execute_result"
    }
   ],
   "source": [
    "air_2017.Value.median()"
   ]
  },
  {
   "cell_type": "markdown",
   "metadata": {},
   "source": [
    "### To get the first sense of how air quality looks like in Beijing, 2015, from 00:00 Jan 1st to 23:59 Dec 31."
   ]
  },
  {
   "cell_type": "code",
   "execution_count": 13,
   "metadata": {
    "scrolled": true
   },
   "outputs": [
    {
     "data": {
      "text/plain": [
       "<AxesSubplot:>"
      ]
     },
     "execution_count": 13,
     "metadata": {},
     "output_type": "execute_result"
    },
    {
     "data": {
      "image/png": "[encoded data removed]",
      "text/plain": [
       "<Figure size 432x288 with 1 Axes>"
      ]
     },
     "metadata": {
      "needs_background": "light"
     },
     "output_type": "display_data"
    }
   ],
   "source": [
    "air_2017.plot(y='Value')"
   ]
  },
  {
   "cell_type": "code",
   "execution_count": 14,
   "metadata": {},
   "outputs": [],
   "source": [
    "midnight=air_2017[air_2017['Hour'] == 0]"
   ]
  },
  {
   "cell_type": "code",
   "execution_count": 150,
   "metadata": {},
   "outputs": [
    {
     "data": {
      "text/html": [
       "<div>\n",
       "<style scoped>\n",
       "    .dataframe tbody tr th:only-of-type {\n",
       "        vertical-align: middle;\n",
       "    }\n",
       "\n",
       "    .dataframe tbody tr th {\n",
       "        vertical-align: top;\n",
       "    }\n",
       "\n",
       "    .dataframe thead th {\n",
       "        text-align: right;\n",
       "    }\n",
       "</style>\n",
       "<table border=\"1\" class=\"dataframe\">\n",
       "  <thead>\n",
       "    <tr style=\"text-align: right;\">\n",
       "      <th></th>\n",
       "      <th>Site</th>\n",
       "      <th>Parameter</th>\n",
       "      <th>Date (LST)</th>\n",
       "      <th>Year</th>\n",
       "      <th>Month</th>\n",
       "      <th>Day</th>\n",
       "      <th>Hour</th>\n",
       "      <th>Value</th>\n",
       "      <th>Unit</th>\n",
       "      <th>Duration</th>\n",
       "      <th>QC Name</th>\n",
       "    </tr>\n",
       "  </thead>\n",
       "  <tbody>\n",
       "    <tr>\n",
       "      <th>0</th>\n",
       "      <td>Beijing</td>\n",
       "      <td>PM2.5</td>\n",
       "      <td>2015-01-01</td>\n",
       "      <td>2015</td>\n",
       "      <td>1</td>\n",
       "      <td>1</td>\n",
       "      <td>0</td>\n",
       "      <td>22</td>\n",
       "      <td>µg/m³</td>\n",
       "      <td>1 Hr</td>\n",
       "      <td>Valid</td>\n",
       "    </tr>\n",
       "    <tr>\n",
       "      <th>24</th>\n",
       "      <td>Beijing</td>\n",
       "      <td>PM2.5</td>\n",
       "      <td>2015-01-02</td>\n",
       "      <td>2015</td>\n",
       "      <td>1</td>\n",
       "      <td>2</td>\n",
       "      <td>0</td>\n",
       "      <td>126</td>\n",
       "      <td>µg/m³</td>\n",
       "      <td>1 Hr</td>\n",
       "      <td>Valid</td>\n",
       "    </tr>\n",
       "    <tr>\n",
       "      <th>48</th>\n",
       "      <td>Beijing</td>\n",
       "      <td>PM2.5</td>\n",
       "      <td>2015-01-03</td>\n",
       "      <td>2015</td>\n",
       "      <td>1</td>\n",
       "      <td>3</td>\n",
       "      <td>0</td>\n",
       "      <td>163</td>\n",
       "      <td>µg/m³</td>\n",
       "      <td>1 Hr</td>\n",
       "      <td>Valid</td>\n",
       "    </tr>\n",
       "    <tr>\n",
       "      <th>72</th>\n",
       "      <td>Beijing</td>\n",
       "      <td>PM2.5</td>\n",
       "      <td>2015-01-04</td>\n",
       "      <td>2015</td>\n",
       "      <td>1</td>\n",
       "      <td>4</td>\n",
       "      <td>0</td>\n",
       "      <td>272</td>\n",
       "      <td>µg/m³</td>\n",
       "      <td>1 Hr</td>\n",
       "      <td>Valid</td>\n",
       "    </tr>\n",
       "    <tr>\n",
       "      <th>96</th>\n",
       "      <td>Beijing</td>\n",
       "      <td>PM2.5</td>\n",
       "      <td>2015-01-05</td>\n",
       "      <td>2015</td>\n",
       "      <td>1</td>\n",
       "      <td>5</td>\n",
       "      <td>0</td>\n",
       "      <td>171</td>\n",
       "      <td>µg/m³</td>\n",
       "      <td>1 Hr</td>\n",
       "      <td>Valid</td>\n",
       "    </tr>\n",
       "    <tr>\n",
       "      <th>...</th>\n",
       "      <td>...</td>\n",
       "      <td>...</td>\n",
       "      <td>...</td>\n",
       "      <td>...</td>\n",
       "      <td>...</td>\n",
       "      <td>...</td>\n",
       "      <td>...</td>\n",
       "      <td>...</td>\n",
       "      <td>...</td>\n",
       "      <td>...</td>\n",
       "      <td>...</td>\n",
       "    </tr>\n",
       "    <tr>\n",
       "      <th>8640</th>\n",
       "      <td>Beijing</td>\n",
       "      <td>PM2.5</td>\n",
       "      <td>2015-12-27</td>\n",
       "      <td>2015</td>\n",
       "      <td>12</td>\n",
       "      <td>27</td>\n",
       "      <td>0</td>\n",
       "      <td>32</td>\n",
       "      <td>µg/m³</td>\n",
       "      <td>1 Hr</td>\n",
       "      <td>Valid</td>\n",
       "    </tr>\n",
       "    <tr>\n",
       "      <th>8664</th>\n",
       "      <td>Beijing</td>\n",
       "      <td>PM2.5</td>\n",
       "      <td>2015-12-28</td>\n",
       "      <td>2015</td>\n",
       "      <td>12</td>\n",
       "      <td>28</td>\n",
       "      <td>0</td>\n",
       "      <td>120</td>\n",
       "      <td>µg/m³</td>\n",
       "      <td>1 Hr</td>\n",
       "      <td>Valid</td>\n",
       "    </tr>\n",
       "    <tr>\n",
       "      <th>8688</th>\n",
       "      <td>Beijing</td>\n",
       "      <td>PM2.5</td>\n",
       "      <td>2015-12-29</td>\n",
       "      <td>2015</td>\n",
       "      <td>12</td>\n",
       "      <td>29</td>\n",
       "      <td>0</td>\n",
       "      <td>294</td>\n",
       "      <td>µg/m³</td>\n",
       "      <td>1 Hr</td>\n",
       "      <td>Valid</td>\n",
       "    </tr>\n",
       "    <tr>\n",
       "      <th>8712</th>\n",
       "      <td>Beijing</td>\n",
       "      <td>PM2.5</td>\n",
       "      <td>2015-12-30</td>\n",
       "      <td>2015</td>\n",
       "      <td>12</td>\n",
       "      <td>30</td>\n",
       "      <td>0</td>\n",
       "      <td>536</td>\n",
       "      <td>µg/m³</td>\n",
       "      <td>1 Hr</td>\n",
       "      <td>Valid</td>\n",
       "    </tr>\n",
       "    <tr>\n",
       "      <th>8736</th>\n",
       "      <td>Beijing</td>\n",
       "      <td>PM2.5</td>\n",
       "      <td>2015-12-31</td>\n",
       "      <td>2015</td>\n",
       "      <td>12</td>\n",
       "      <td>31</td>\n",
       "      <td>0</td>\n",
       "      <td>28</td>\n",
       "      <td>µg/m³</td>\n",
       "      <td>1 Hr</td>\n",
       "      <td>Valid</td>\n",
       "    </tr>\n",
       "  </tbody>\n",
       "</table>\n",
       "<p>364 rows × 11 columns</p>\n",
       "</div>"
      ],
      "text/plain": [
       "         Site Parameter Date (LST)  Year  Month  Day  Hour  Value   Unit  \\\n",
       "0     Beijing     PM2.5 2015-01-01  2015      1    1     0     22  µg/m³   \n",
       "24    Beijing     PM2.5 2015-01-02  2015      1    2     0    126  µg/m³   \n",
       "48    Beijing     PM2.5 2015-01-03  2015      1    3     0    163  µg/m³   \n",
       "72    Beijing     PM2.5 2015-01-04  2015      1    4     0    272  µg/m³   \n",
       "96    Beijing     PM2.5 2015-01-05  2015      1    5     0    171  µg/m³   \n",
       "...       ...       ...        ...   ...    ...  ...   ...    ...    ...   \n",
       "8640  Beijing     PM2.5 2015-12-27  2015     12   27     0     32  µg/m³   \n",
       "8664  Beijing     PM2.5 2015-12-28  2015     12   28     0    120  µg/m³   \n",
       "8688  Beijing     PM2.5 2015-12-29  2015     12   29     0    294  µg/m³   \n",
       "8712  Beijing     PM2.5 2015-12-30  2015     12   30     0    536  µg/m³   \n",
       "8736  Beijing     PM2.5 2015-12-31  2015     12   31     0     28  µg/m³   \n",
       "\n",
       "     Duration QC Name  \n",
       "0        1 Hr   Valid  \n",
       "24       1 Hr   Valid  \n",
       "48       1 Hr   Valid  \n",
       "72       1 Hr   Valid  \n",
       "96       1 Hr   Valid  \n",
       "...       ...     ...  \n",
       "8640     1 Hr   Valid  \n",
       "8664     1 Hr   Valid  \n",
       "8688     1 Hr   Valid  \n",
       "8712     1 Hr   Valid  \n",
       "8736     1 Hr   Valid  \n",
       "\n",
       "[364 rows x 11 columns]"
      ]
     },
     "execution_count": 150,
     "metadata": {},
     "output_type": "execute_result"
    }
   ],
   "source": [
    "midnight"
   ]
  },
  {
   "cell_type": "code",
   "execution_count": 15,
   "metadata": {},
   "outputs": [
    {
     "data": {
      "text/html": [
       "<div>\n",
       "<style scoped>\n",
       "    .dataframe tbody tr th:only-of-type {\n",
       "        vertical-align: middle;\n",
       "    }\n",
       "\n",
       "    .dataframe tbody tr th {\n",
       "        vertical-align: top;\n",
       "    }\n",
       "\n",
       "    .dataframe thead th {\n",
       "        text-align: right;\n",
       "    }\n",
       "</style>\n",
       "<table border=\"1\" class=\"dataframe\">\n",
       "  <thead>\n",
       "    <tr style=\"text-align: right;\">\n",
       "      <th></th>\n",
       "      <th>Site</th>\n",
       "      <th>Parameter</th>\n",
       "      <th>Date (LST)</th>\n",
       "      <th>Year</th>\n",
       "      <th>Month</th>\n",
       "      <th>Day</th>\n",
       "      <th>Hour</th>\n",
       "      <th>Value</th>\n",
       "      <th>Unit</th>\n",
       "      <th>Duration</th>\n",
       "      <th>QC Name</th>\n",
       "    </tr>\n",
       "  </thead>\n",
       "  <tbody>\n",
       "    <tr>\n",
       "      <th>12</th>\n",
       "      <td>Beijing</td>\n",
       "      <td>PM2.5</td>\n",
       "      <td>2017-01-01 12:00:00</td>\n",
       "      <td>2017</td>\n",
       "      <td>1</td>\n",
       "      <td>1</td>\n",
       "      <td>12</td>\n",
       "      <td>474</td>\n",
       "      <td>µg/m³</td>\n",
       "      <td>1 Hr</td>\n",
       "      <td>Valid</td>\n",
       "    </tr>\n",
       "    <tr>\n",
       "      <th>36</th>\n",
       "      <td>Beijing</td>\n",
       "      <td>PM2.5</td>\n",
       "      <td>2017-01-02 12:00:00</td>\n",
       "      <td>2017</td>\n",
       "      <td>1</td>\n",
       "      <td>2</td>\n",
       "      <td>12</td>\n",
       "      <td>193</td>\n",
       "      <td>µg/m³</td>\n",
       "      <td>1 Hr</td>\n",
       "      <td>Valid</td>\n",
       "    </tr>\n",
       "    <tr>\n",
       "      <th>60</th>\n",
       "      <td>Beijing</td>\n",
       "      <td>PM2.5</td>\n",
       "      <td>2017-01-03 12:00:00</td>\n",
       "      <td>2017</td>\n",
       "      <td>1</td>\n",
       "      <td>3</td>\n",
       "      <td>12</td>\n",
       "      <td>238</td>\n",
       "      <td>µg/m³</td>\n",
       "      <td>1 Hr</td>\n",
       "      <td>Valid</td>\n",
       "    </tr>\n",
       "    <tr>\n",
       "      <th>84</th>\n",
       "      <td>Beijing</td>\n",
       "      <td>PM2.5</td>\n",
       "      <td>2017-01-04 12:00:00</td>\n",
       "      <td>2017</td>\n",
       "      <td>1</td>\n",
       "      <td>4</td>\n",
       "      <td>12</td>\n",
       "      <td>251</td>\n",
       "      <td>µg/m³</td>\n",
       "      <td>1 Hr</td>\n",
       "      <td>Valid</td>\n",
       "    </tr>\n",
       "    <tr>\n",
       "      <th>108</th>\n",
       "      <td>Beijing</td>\n",
       "      <td>PM2.5</td>\n",
       "      <td>2017-01-05 12:00:00</td>\n",
       "      <td>2017</td>\n",
       "      <td>1</td>\n",
       "      <td>5</td>\n",
       "      <td>12</td>\n",
       "      <td>261</td>\n",
       "      <td>µg/m³</td>\n",
       "      <td>1 Hr</td>\n",
       "      <td>Valid</td>\n",
       "    </tr>\n",
       "    <tr>\n",
       "      <th>...</th>\n",
       "      <td>...</td>\n",
       "      <td>...</td>\n",
       "      <td>...</td>\n",
       "      <td>...</td>\n",
       "      <td>...</td>\n",
       "      <td>...</td>\n",
       "      <td>...</td>\n",
       "      <td>...</td>\n",
       "      <td>...</td>\n",
       "      <td>...</td>\n",
       "      <td>...</td>\n",
       "    </tr>\n",
       "    <tr>\n",
       "      <th>4236</th>\n",
       "      <td>Beijing</td>\n",
       "      <td>PM2.5</td>\n",
       "      <td>2017-06-26 12:00:00</td>\n",
       "      <td>2017</td>\n",
       "      <td>6</td>\n",
       "      <td>26</td>\n",
       "      <td>12</td>\n",
       "      <td>42</td>\n",
       "      <td>µg/m³</td>\n",
       "      <td>1 Hr</td>\n",
       "      <td>Valid</td>\n",
       "    </tr>\n",
       "    <tr>\n",
       "      <th>4260</th>\n",
       "      <td>Beijing</td>\n",
       "      <td>PM2.5</td>\n",
       "      <td>2017-06-27 12:00:00</td>\n",
       "      <td>2017</td>\n",
       "      <td>6</td>\n",
       "      <td>27</td>\n",
       "      <td>12</td>\n",
       "      <td>86</td>\n",
       "      <td>µg/m³</td>\n",
       "      <td>1 Hr</td>\n",
       "      <td>Valid</td>\n",
       "    </tr>\n",
       "    <tr>\n",
       "      <th>4284</th>\n",
       "      <td>Beijing</td>\n",
       "      <td>PM2.5</td>\n",
       "      <td>2017-06-28 12:00:00</td>\n",
       "      <td>2017</td>\n",
       "      <td>6</td>\n",
       "      <td>28</td>\n",
       "      <td>12</td>\n",
       "      <td>104</td>\n",
       "      <td>µg/m³</td>\n",
       "      <td>1 Hr</td>\n",
       "      <td>Valid</td>\n",
       "    </tr>\n",
       "    <tr>\n",
       "      <th>4308</th>\n",
       "      <td>Beijing</td>\n",
       "      <td>PM2.5</td>\n",
       "      <td>2017-06-29 12:00:00</td>\n",
       "      <td>2017</td>\n",
       "      <td>6</td>\n",
       "      <td>29</td>\n",
       "      <td>12</td>\n",
       "      <td>52</td>\n",
       "      <td>µg/m³</td>\n",
       "      <td>1 Hr</td>\n",
       "      <td>Valid</td>\n",
       "    </tr>\n",
       "    <tr>\n",
       "      <th>4332</th>\n",
       "      <td>Beijing</td>\n",
       "      <td>PM2.5</td>\n",
       "      <td>2017-06-30 12:00:00</td>\n",
       "      <td>2017</td>\n",
       "      <td>6</td>\n",
       "      <td>30</td>\n",
       "      <td>12</td>\n",
       "      <td>90</td>\n",
       "      <td>µg/m³</td>\n",
       "      <td>1 Hr</td>\n",
       "      <td>Valid</td>\n",
       "    </tr>\n",
       "  </tbody>\n",
       "</table>\n",
       "<p>180 rows × 11 columns</p>\n",
       "</div>"
      ],
      "text/plain": [
       "         Site Parameter          Date (LST)  Year  Month  Day  Hour  Value  \\\n",
       "12    Beijing     PM2.5 2017-01-01 12:00:00  2017      1    1    12    474   \n",
       "36    Beijing     PM2.5 2017-01-02 12:00:00  2017      1    2    12    193   \n",
       "60    Beijing     PM2.5 2017-01-03 12:00:00  2017      1    3    12    238   \n",
       "84    Beijing     PM2.5 2017-01-04 12:00:00  2017      1    4    12    251   \n",
       "108   Beijing     PM2.5 2017-01-05 12:00:00  2017      1    5    12    261   \n",
       "...       ...       ...                 ...   ...    ...  ...   ...    ...   \n",
       "4236  Beijing     PM2.5 2017-06-26 12:00:00  2017      6   26    12     42   \n",
       "4260  Beijing     PM2.5 2017-06-27 12:00:00  2017      6   27    12     86   \n",
       "4284  Beijing     PM2.5 2017-06-28 12:00:00  2017      6   28    12    104   \n",
       "4308  Beijing     PM2.5 2017-06-29 12:00:00  2017      6   29    12     52   \n",
       "4332  Beijing     PM2.5 2017-06-30 12:00:00  2017      6   30    12     90   \n",
       "\n",
       "       Unit Duration QC Name  \n",
       "12    µg/m³     1 Hr   Valid  \n",
       "36    µg/m³     1 Hr   Valid  \n",
       "60    µg/m³     1 Hr   Valid  \n",
       "84    µg/m³     1 Hr   Valid  \n",
       "108   µg/m³     1 Hr   Valid  \n",
       "...     ...      ...     ...  \n",
       "4236  µg/m³     1 Hr   Valid  \n",
       "4260  µg/m³     1 Hr   Valid  \n",
       "4284  µg/m³     1 Hr   Valid  \n",
       "4308  µg/m³     1 Hr   Valid  \n",
       "4332  µg/m³     1 Hr   Valid  \n",
       "\n",
       "[180 rows x 11 columns]"
      ]
     },
     "execution_count": 15,
     "metadata": {},
     "output_type": "execute_result"
    }
   ],
   "source": [
    "midday = air_2017[air_2017['Hour'] == 12]\n",
    "midday"
   ]
  },
  {
   "cell_type": "markdown",
   "metadata": {},
   "source": [
    "### I have a hypothesis, due to the actitivities during the daytime, air quality in the day is  worse than it in the night."
   ]
  },
  {
   "cell_type": "code",
   "execution_count": 16,
   "metadata": {},
   "outputs": [
    {
     "data": {
      "text/plain": [
       "<AxesSubplot:>"
      ]
     },
     "execution_count": 16,
     "metadata": {},
     "output_type": "execute_result"
    },
    {
     "data": {
      "image/png": "[encoded data removed]",
      "text/plain": [
       "<Figure size 432x288 with 1 Axes>"
      ]
     },
     "metadata": {
      "needs_background": "light"
     },
     "output_type": "display_data"
    }
   ],
   "source": [
    "midday.plot(y='Value')"
   ]
  },
  {
   "cell_type": "code",
   "execution_count": 17,
   "metadata": {},
   "outputs": [
    {
     "data": {
      "text/plain": [
       "<AxesSubplot:>"
      ]
     },
     "execution_count": 17,
     "metadata": {},
     "output_type": "execute_result"
    },
    {
     "data": {
      "image/png": "[encoded data removed]",
      "text/plain": [
       "<Figure size 432x288 with 1 Axes>"
      ]
     },
     "metadata": {
      "needs_background": "light"
     },
     "output_type": "display_data"
    }
   ],
   "source": [
    "midnight.plot(y='Value')"
   ]
  },
  {
   "cell_type": "code",
   "execution_count": 18,
   "metadata": {
    "scrolled": true
   },
   "outputs": [
    {
     "data": {
      "text/plain": [
       "Text(0, 0.5, 'PM 2.5')"
      ]
     },
     "execution_count": 18,
     "metadata": {},
     "output_type": "execute_result"
    },
    {
     "data": {
      "image/png": "[encoded data removed]",
      "text/plain": [
       "<Figure size 432x288 with 1 Axes>"
      ]
     },
     "metadata": {
      "needs_background": "light"
     },
     "output_type": "display_data"
    }
   ],
   "source": [
    "ax = midday.plot(y=\"Value\", label=\"midday\")\n",
    "midnight.plot(y=\"Value\",label=\"midnight\",ax=ax)\n",
    "ax.set_ylabel(\"PM 2.5\")"
   ]
  },
  {
   "cell_type": "markdown",
   "metadata": {},
   "source": [
    "### I assume the air quality on Chinese new year eve is more likely worse than new year eve, due to the cultural bond."
   ]
  },
  {
   "cell_type": "code",
   "execution_count": 20,
   "metadata": {},
   "outputs": [
    {
     "data": {
      "text/html": [
       "<div>\n",
       "<style scoped>\n",
       "    .dataframe tbody tr th:only-of-type {\n",
       "        vertical-align: middle;\n",
       "    }\n",
       "\n",
       "    .dataframe tbody tr th {\n",
       "        vertical-align: top;\n",
       "    }\n",
       "\n",
       "    .dataframe thead th {\n",
       "        text-align: right;\n",
       "    }\n",
       "</style>\n",
       "<table border=\"1\" class=\"dataframe\">\n",
       "  <thead>\n",
       "    <tr style=\"text-align: right;\">\n",
       "      <th></th>\n",
       "      <th>Site</th>\n",
       "      <th>Parameter</th>\n",
       "      <th>Date (LST)</th>\n",
       "      <th>Year</th>\n",
       "      <th>Month</th>\n",
       "      <th>Day</th>\n",
       "      <th>Hour</th>\n",
       "      <th>Value</th>\n",
       "      <th>Unit</th>\n",
       "      <th>Duration</th>\n",
       "      <th>QC Name</th>\n",
       "    </tr>\n",
       "  </thead>\n",
       "  <tbody>\n",
       "  </tbody>\n",
       "</table>\n",
       "</div>"
      ],
      "text/plain": [
       "Empty DataFrame\n",
       "Columns: [Site, Parameter, Date (LST), Year, Month, Day, Hour, Value, Unit, Duration, QC Name]\n",
       "Index: []"
      ]
     },
     "execution_count": 20,
     "metadata": {},
     "output_type": "execute_result"
    }
   ],
   "source": [
    "new_year_eve = air_2017[((air_2017['Month']==12) & (air_2017['Day']==31))]\n",
    "new_year_eve"
   ]
  },
  {
   "cell_type": "code",
   "execution_count": 21,
   "metadata": {},
   "outputs": [
    {
     "data": {
      "text/html": [
       "<div>\n",
       "<style scoped>\n",
       "    .dataframe tbody tr th:only-of-type {\n",
       "        vertical-align: middle;\n",
       "    }\n",
       "\n",
       "    .dataframe tbody tr th {\n",
       "        vertical-align: top;\n",
       "    }\n",
       "\n",
       "    .dataframe thead th {\n",
       "        text-align: right;\n",
       "    }\n",
       "</style>\n",
       "<table border=\"1\" class=\"dataframe\">\n",
       "  <thead>\n",
       "    <tr style=\"text-align: right;\">\n",
       "      <th></th>\n",
       "      <th>Year</th>\n",
       "      <th>Month</th>\n",
       "      <th>Day</th>\n",
       "      <th>Hour</th>\n",
       "      <th>Value</th>\n",
       "    </tr>\n",
       "  </thead>\n",
       "  <tbody>\n",
       "    <tr>\n",
       "      <th>count</th>\n",
       "      <td>0.0</td>\n",
       "      <td>0.0</td>\n",
       "      <td>0.0</td>\n",
       "      <td>0.0</td>\n",
       "      <td>0.0</td>\n",
       "    </tr>\n",
       "    <tr>\n",
       "      <th>mean</th>\n",
       "      <td>NaN</td>\n",
       "      <td>NaN</td>\n",
       "      <td>NaN</td>\n",
       "      <td>NaN</td>\n",
       "      <td>NaN</td>\n",
       "    </tr>\n",
       "    <tr>\n",
       "      <th>std</th>\n",
       "      <td>NaN</td>\n",
       "      <td>NaN</td>\n",
       "      <td>NaN</td>\n",
       "      <td>NaN</td>\n",
       "      <td>NaN</td>\n",
       "    </tr>\n",
       "    <tr>\n",
       "      <th>min</th>\n",
       "      <td>NaN</td>\n",
       "      <td>NaN</td>\n",
       "      <td>NaN</td>\n",
       "      <td>NaN</td>\n",
       "      <td>NaN</td>\n",
       "    </tr>\n",
       "    <tr>\n",
       "      <th>25%</th>\n",
       "      <td>NaN</td>\n",
       "      <td>NaN</td>\n",
       "      <td>NaN</td>\n",
       "      <td>NaN</td>\n",
       "      <td>NaN</td>\n",
       "    </tr>\n",
       "    <tr>\n",
       "      <th>50%</th>\n",
       "      <td>NaN</td>\n",
       "      <td>NaN</td>\n",
       "      <td>NaN</td>\n",
       "      <td>NaN</td>\n",
       "      <td>NaN</td>\n",
       "    </tr>\n",
       "    <tr>\n",
       "      <th>75%</th>\n",
       "      <td>NaN</td>\n",
       "      <td>NaN</td>\n",
       "      <td>NaN</td>\n",
       "      <td>NaN</td>\n",
       "      <td>NaN</td>\n",
       "    </tr>\n",
       "    <tr>\n",
       "      <th>max</th>\n",
       "      <td>NaN</td>\n",
       "      <td>NaN</td>\n",
       "      <td>NaN</td>\n",
       "      <td>NaN</td>\n",
       "      <td>NaN</td>\n",
       "    </tr>\n",
       "  </tbody>\n",
       "</table>\n",
       "</div>"
      ],
      "text/plain": [
       "       Year  Month  Day  Hour  Value\n",
       "count   0.0    0.0  0.0   0.0    0.0\n",
       "mean    NaN    NaN  NaN   NaN    NaN\n",
       "std     NaN    NaN  NaN   NaN    NaN\n",
       "min     NaN    NaN  NaN   NaN    NaN\n",
       "25%     NaN    NaN  NaN   NaN    NaN\n",
       "50%     NaN    NaN  NaN   NaN    NaN\n",
       "75%     NaN    NaN  NaN   NaN    NaN\n",
       "max     NaN    NaN  NaN   NaN    NaN"
      ]
     },
     "execution_count": 21,
     "metadata": {},
     "output_type": "execute_result"
    }
   ],
   "source": [
    "new_year_eve.describe()"
   ]
  },
  {
   "cell_type": "code",
   "execution_count": 22,
   "metadata": {},
   "outputs": [
    {
     "data": {
      "text/plain": [
       "<AxesSubplot:xlabel='Hour'>"
      ]
     },
     "execution_count": 22,
     "metadata": {},
     "output_type": "execute_result"
    },
    {
     "data": {
      "image/png": "[encoded data removed]",
      "text/plain": [
       "<Figure size 432x288 with 1 Axes>"
      ]
     },
     "metadata": {
      "needs_background": "light"
     },
     "output_type": "display_data"
    }
   ],
   "source": [
    "new_year_eve.plot(x='Hour', y='Value')"
   ]
  },
  {
   "cell_type": "markdown",
   "metadata": {},
   "source": [
    "Chinese new year is Feb 19"
   ]
  },
  {
   "cell_type": "code",
   "execution_count": 24,
   "metadata": {},
   "outputs": [
    {
     "data": {
      "text/html": [
       "<div>\n",
       "<style scoped>\n",
       "    .dataframe tbody tr th:only-of-type {\n",
       "        vertical-align: middle;\n",
       "    }\n",
       "\n",
       "    .dataframe tbody tr th {\n",
       "        vertical-align: top;\n",
       "    }\n",
       "\n",
       "    .dataframe thead th {\n",
       "        text-align: right;\n",
       "    }\n",
       "</style>\n",
       "<table border=\"1\" class=\"dataframe\">\n",
       "  <thead>\n",
       "    <tr style=\"text-align: right;\">\n",
       "      <th></th>\n",
       "      <th>Site</th>\n",
       "      <th>Parameter</th>\n",
       "      <th>Date (LST)</th>\n",
       "      <th>Year</th>\n",
       "      <th>Month</th>\n",
       "      <th>Day</th>\n",
       "      <th>Hour</th>\n",
       "      <th>Value</th>\n",
       "      <th>Unit</th>\n",
       "      <th>Duration</th>\n",
       "      <th>QC Name</th>\n",
       "    </tr>\n",
       "  </thead>\n",
       "  <tbody>\n",
       "    <tr>\n",
       "      <th>624</th>\n",
       "      <td>Beijing</td>\n",
       "      <td>PM2.5</td>\n",
       "      <td>2017-01-27 00:00:00</td>\n",
       "      <td>2017</td>\n",
       "      <td>1</td>\n",
       "      <td>27</td>\n",
       "      <td>0</td>\n",
       "      <td>7</td>\n",
       "      <td>µg/m³</td>\n",
       "      <td>1 Hr</td>\n",
       "      <td>Valid</td>\n",
       "    </tr>\n",
       "    <tr>\n",
       "      <th>625</th>\n",
       "      <td>Beijing</td>\n",
       "      <td>PM2.5</td>\n",
       "      <td>2017-01-27 01:00:00</td>\n",
       "      <td>2017</td>\n",
       "      <td>1</td>\n",
       "      <td>27</td>\n",
       "      <td>1</td>\n",
       "      <td>10</td>\n",
       "      <td>µg/m³</td>\n",
       "      <td>1 Hr</td>\n",
       "      <td>Valid</td>\n",
       "    </tr>\n",
       "    <tr>\n",
       "      <th>626</th>\n",
       "      <td>Beijing</td>\n",
       "      <td>PM2.5</td>\n",
       "      <td>2017-01-27 02:00:00</td>\n",
       "      <td>2017</td>\n",
       "      <td>1</td>\n",
       "      <td>27</td>\n",
       "      <td>2</td>\n",
       "      <td>12</td>\n",
       "      <td>µg/m³</td>\n",
       "      <td>1 Hr</td>\n",
       "      <td>Valid</td>\n",
       "    </tr>\n",
       "    <tr>\n",
       "      <th>627</th>\n",
       "      <td>Beijing</td>\n",
       "      <td>PM2.5</td>\n",
       "      <td>2017-01-27 03:00:00</td>\n",
       "      <td>2017</td>\n",
       "      <td>1</td>\n",
       "      <td>27</td>\n",
       "      <td>3</td>\n",
       "      <td>8</td>\n",
       "      <td>µg/m³</td>\n",
       "      <td>1 Hr</td>\n",
       "      <td>Valid</td>\n",
       "    </tr>\n",
       "    <tr>\n",
       "      <th>628</th>\n",
       "      <td>Beijing</td>\n",
       "      <td>PM2.5</td>\n",
       "      <td>2017-01-27 04:00:00</td>\n",
       "      <td>2017</td>\n",
       "      <td>1</td>\n",
       "      <td>27</td>\n",
       "      <td>4</td>\n",
       "      <td>6</td>\n",
       "      <td>µg/m³</td>\n",
       "      <td>1 Hr</td>\n",
       "      <td>Valid</td>\n",
       "    </tr>\n",
       "  </tbody>\n",
       "</table>\n",
       "</div>"
      ],
      "text/plain": [
       "        Site Parameter          Date (LST)  Year  Month  Day  Hour  Value  \\\n",
       "624  Beijing     PM2.5 2017-01-27 00:00:00  2017      1   27     0      7   \n",
       "625  Beijing     PM2.5 2017-01-27 01:00:00  2017      1   27     1     10   \n",
       "626  Beijing     PM2.5 2017-01-27 02:00:00  2017      1   27     2     12   \n",
       "627  Beijing     PM2.5 2017-01-27 03:00:00  2017      1   27     3      8   \n",
       "628  Beijing     PM2.5 2017-01-27 04:00:00  2017      1   27     4      6   \n",
       "\n",
       "      Unit Duration QC Name  \n",
       "624  µg/m³     1 Hr   Valid  \n",
       "625  µg/m³     1 Hr   Valid  \n",
       "626  µg/m³     1 Hr   Valid  \n",
       "627  µg/m³     1 Hr   Valid  \n",
       "628  µg/m³     1 Hr   Valid  "
      ]
     },
     "execution_count": 24,
     "metadata": {},
     "output_type": "execute_result"
    }
   ],
   "source": [
    "chinese_new_year_eve = air_2017[((air_2017['Month']==1) & (air_2017['Day']==27))]\n",
    "chinese_new_year_eve.head()"
   ]
  },
  {
   "cell_type": "code",
   "execution_count": 25,
   "metadata": {},
   "outputs": [
    {
     "data": {
      "text/html": [
       "<div>\n",
       "<style scoped>\n",
       "    .dataframe tbody tr th:only-of-type {\n",
       "        vertical-align: middle;\n",
       "    }\n",
       "\n",
       "    .dataframe tbody tr th {\n",
       "        vertical-align: top;\n",
       "    }\n",
       "\n",
       "    .dataframe thead th {\n",
       "        text-align: right;\n",
       "    }\n",
       "</style>\n",
       "<table border=\"1\" class=\"dataframe\">\n",
       "  <thead>\n",
       "    <tr style=\"text-align: right;\">\n",
       "      <th></th>\n",
       "      <th>Year</th>\n",
       "      <th>Month</th>\n",
       "      <th>Day</th>\n",
       "      <th>Hour</th>\n",
       "      <th>Value</th>\n",
       "    </tr>\n",
       "  </thead>\n",
       "  <tbody>\n",
       "    <tr>\n",
       "      <th>count</th>\n",
       "      <td>24.0</td>\n",
       "      <td>24.0</td>\n",
       "      <td>24.0</td>\n",
       "      <td>24.000000</td>\n",
       "      <td>24.000000</td>\n",
       "    </tr>\n",
       "    <tr>\n",
       "      <th>mean</th>\n",
       "      <td>2017.0</td>\n",
       "      <td>1.0</td>\n",
       "      <td>27.0</td>\n",
       "      <td>11.500000</td>\n",
       "      <td>64.291667</td>\n",
       "    </tr>\n",
       "    <tr>\n",
       "      <th>std</th>\n",
       "      <td>0.0</td>\n",
       "      <td>0.0</td>\n",
       "      <td>0.0</td>\n",
       "      <td>7.071068</td>\n",
       "      <td>87.082409</td>\n",
       "    </tr>\n",
       "    <tr>\n",
       "      <th>min</th>\n",
       "      <td>2017.0</td>\n",
       "      <td>1.0</td>\n",
       "      <td>27.0</td>\n",
       "      <td>0.000000</td>\n",
       "      <td>5.000000</td>\n",
       "    </tr>\n",
       "    <tr>\n",
       "      <th>25%</th>\n",
       "      <td>2017.0</td>\n",
       "      <td>1.0</td>\n",
       "      <td>27.0</td>\n",
       "      <td>5.750000</td>\n",
       "      <td>11.500000</td>\n",
       "    </tr>\n",
       "    <tr>\n",
       "      <th>50%</th>\n",
       "      <td>2017.0</td>\n",
       "      <td>1.0</td>\n",
       "      <td>27.0</td>\n",
       "      <td>11.500000</td>\n",
       "      <td>35.000000</td>\n",
       "    </tr>\n",
       "    <tr>\n",
       "      <th>75%</th>\n",
       "      <td>2017.0</td>\n",
       "      <td>1.0</td>\n",
       "      <td>27.0</td>\n",
       "      <td>17.250000</td>\n",
       "      <td>67.750000</td>\n",
       "    </tr>\n",
       "    <tr>\n",
       "      <th>max</th>\n",
       "      <td>2017.0</td>\n",
       "      <td>1.0</td>\n",
       "      <td>27.0</td>\n",
       "      <td>23.000000</td>\n",
       "      <td>359.000000</td>\n",
       "    </tr>\n",
       "  </tbody>\n",
       "</table>\n",
       "</div>"
      ],
      "text/plain": [
       "         Year  Month   Day       Hour       Value\n",
       "count    24.0   24.0  24.0  24.000000   24.000000\n",
       "mean   2017.0    1.0  27.0  11.500000   64.291667\n",
       "std       0.0    0.0   0.0   7.071068   87.082409\n",
       "min    2017.0    1.0  27.0   0.000000    5.000000\n",
       "25%    2017.0    1.0  27.0   5.750000   11.500000\n",
       "50%    2017.0    1.0  27.0  11.500000   35.000000\n",
       "75%    2017.0    1.0  27.0  17.250000   67.750000\n",
       "max    2017.0    1.0  27.0  23.000000  359.000000"
      ]
     },
     "execution_count": 25,
     "metadata": {},
     "output_type": "execute_result"
    }
   ],
   "source": [
    "chinese_new_year_eve.describe()"
   ]
  },
  {
   "cell_type": "code",
   "execution_count": 26,
   "metadata": {},
   "outputs": [
    {
     "data": {
      "text/plain": [
       "<AxesSubplot:xlabel='Hour'>"
      ]
     },
     "execution_count": 26,
     "metadata": {},
     "output_type": "execute_result"
    },
    {
     "data": {
      "image/png": "[encoded data removed]",
      "text/plain": [
       "<Figure size 432x288 with 1 Axes>"
      ]
     },
     "metadata": {
      "needs_background": "light"
     },
     "output_type": "display_data"
    }
   ],
   "source": [
    "chinese_new_year_eve.plot(x ='Hour', y='Value')"
   ]
  },
  {
   "cell_type": "code",
   "execution_count": 27,
   "metadata": {},
   "outputs": [
    {
     "data": {
      "text/plain": [
       "Text(0, 0.5, 'PM 2.5')"
      ]
     },
     "execution_count": 27,
     "metadata": {},
     "output_type": "execute_result"
    },
    {
     "data": {
      "image/png": "[encoded data removed]",
      "text/plain": [
       "<Figure size 432x288 with 1 Axes>"
      ]
     },
     "metadata": {
      "needs_background": "light"
     },
     "output_type": "display_data"
    }
   ],
   "source": [
    "ax = new_year_eve.plot(x=\"Hour\", y=\"Value\", label=\"New Year Eve\")\n",
    "chinese_new_year_eve.plot(x=\"Hour\",y=\"Value\",label=\"Chinese New Year Eve\",ax=ax)\n",
    "ax.set_ylabel(\"PM 2.5\")"
   ]
  },
  {
   "cell_type": "markdown",
   "metadata": {},
   "source": [
    "*Next step:* Compare the two different new year's eves with an average day (calculated hour by hour)."
   ]
  },
  {
   "cell_type": "markdown",
   "metadata": {},
   "source": [
    "### To compare to normal days, I need to find the average index of every hour."
   ]
  },
  {
   "cell_type": "code",
   "execution_count": 29,
   "metadata": {},
   "outputs": [
    {
     "data": {
      "text/html": [
       "<div>\n",
       "<style scoped>\n",
       "    .dataframe tbody tr th:only-of-type {\n",
       "        vertical-align: middle;\n",
       "    }\n",
       "\n",
       "    .dataframe tbody tr th {\n",
       "        vertical-align: top;\n",
       "    }\n",
       "\n",
       "    .dataframe thead th {\n",
       "        text-align: right;\n",
       "    }\n",
       "</style>\n",
       "<table border=\"1\" class=\"dataframe\">\n",
       "  <thead>\n",
       "    <tr style=\"text-align: right;\">\n",
       "      <th></th>\n",
       "      <th>Hour</th>\n",
       "      <th>Value</th>\n",
       "    </tr>\n",
       "  </thead>\n",
       "  <tbody>\n",
       "    <tr>\n",
       "      <th>0</th>\n",
       "      <td>0</td>\n",
       "      <td>75.759777</td>\n",
       "    </tr>\n",
       "    <tr>\n",
       "      <th>1</th>\n",
       "      <td>1</td>\n",
       "      <td>75.089385</td>\n",
       "    </tr>\n",
       "    <tr>\n",
       "      <th>2</th>\n",
       "      <td>2</td>\n",
       "      <td>76.117318</td>\n",
       "    </tr>\n",
       "    <tr>\n",
       "      <th>3</th>\n",
       "      <td>3</td>\n",
       "      <td>73.922652</td>\n",
       "    </tr>\n",
       "    <tr>\n",
       "      <th>4</th>\n",
       "      <td>4</td>\n",
       "      <td>74.950000</td>\n",
       "    </tr>\n",
       "    <tr>\n",
       "      <th>5</th>\n",
       "      <td>5</td>\n",
       "      <td>74.433333</td>\n",
       "    </tr>\n",
       "    <tr>\n",
       "      <th>6</th>\n",
       "      <td>6</td>\n",
       "      <td>73.955556</td>\n",
       "    </tr>\n",
       "    <tr>\n",
       "      <th>7</th>\n",
       "      <td>7</td>\n",
       "      <td>77.178771</td>\n",
       "    </tr>\n",
       "    <tr>\n",
       "      <th>8</th>\n",
       "      <td>8</td>\n",
       "      <td>73.755556</td>\n",
       "    </tr>\n",
       "    <tr>\n",
       "      <th>9</th>\n",
       "      <td>9</td>\n",
       "      <td>70.966480</td>\n",
       "    </tr>\n",
       "    <tr>\n",
       "      <th>10</th>\n",
       "      <td>10</td>\n",
       "      <td>70.000000</td>\n",
       "    </tr>\n",
       "    <tr>\n",
       "      <th>11</th>\n",
       "      <td>11</td>\n",
       "      <td>68.854749</td>\n",
       "    </tr>\n",
       "    <tr>\n",
       "      <th>12</th>\n",
       "      <td>12</td>\n",
       "      <td>69.744444</td>\n",
       "    </tr>\n",
       "    <tr>\n",
       "      <th>13</th>\n",
       "      <td>13</td>\n",
       "      <td>68.072222</td>\n",
       "    </tr>\n",
       "    <tr>\n",
       "      <th>14</th>\n",
       "      <td>14</td>\n",
       "      <td>62.715084</td>\n",
       "    </tr>\n",
       "    <tr>\n",
       "      <th>15</th>\n",
       "      <td>15</td>\n",
       "      <td>60.740331</td>\n",
       "    </tr>\n",
       "    <tr>\n",
       "      <th>16</th>\n",
       "      <td>16</td>\n",
       "      <td>60.234637</td>\n",
       "    </tr>\n",
       "    <tr>\n",
       "      <th>17</th>\n",
       "      <td>17</td>\n",
       "      <td>60.111111</td>\n",
       "    </tr>\n",
       "    <tr>\n",
       "      <th>18</th>\n",
       "      <td>18</td>\n",
       "      <td>62.167598</td>\n",
       "    </tr>\n",
       "    <tr>\n",
       "      <th>19</th>\n",
       "      <td>19</td>\n",
       "      <td>64.176796</td>\n",
       "    </tr>\n",
       "    <tr>\n",
       "      <th>20</th>\n",
       "      <td>20</td>\n",
       "      <td>69.668508</td>\n",
       "    </tr>\n",
       "    <tr>\n",
       "      <th>21</th>\n",
       "      <td>21</td>\n",
       "      <td>71.204420</td>\n",
       "    </tr>\n",
       "    <tr>\n",
       "      <th>22</th>\n",
       "      <td>22</td>\n",
       "      <td>73.701657</td>\n",
       "    </tr>\n",
       "    <tr>\n",
       "      <th>23</th>\n",
       "      <td>23</td>\n",
       "      <td>74.391061</td>\n",
       "    </tr>\n",
       "  </tbody>\n",
       "</table>\n",
       "</div>"
      ],
      "text/plain": [
       "    Hour      Value\n",
       "0      0  75.759777\n",
       "1      1  75.089385\n",
       "2      2  76.117318\n",
       "3      3  73.922652\n",
       "4      4  74.950000\n",
       "5      5  74.433333\n",
       "6      6  73.955556\n",
       "7      7  77.178771\n",
       "8      8  73.755556\n",
       "9      9  70.966480\n",
       "10    10  70.000000\n",
       "11    11  68.854749\n",
       "12    12  69.744444\n",
       "13    13  68.072222\n",
       "14    14  62.715084\n",
       "15    15  60.740331\n",
       "16    16  60.234637\n",
       "17    17  60.111111\n",
       "18    18  62.167598\n",
       "19    19  64.176796\n",
       "20    20  69.668508\n",
       "21    21  71.204420\n",
       "22    22  73.701657\n",
       "23    23  74.391061"
      ]
     },
     "execution_count": 29,
     "metadata": {},
     "output_type": "execute_result"
    }
   ],
   "source": [
    "hourly_average = air_2017[['Hour','Value']].groupby(['Hour']).mean().reset_index()\n",
    "hourly_average"
   ]
  },
  {
   "cell_type": "code",
   "execution_count": 30,
   "metadata": {},
   "outputs": [
    {
     "data": {
      "text/plain": [
       "Text(0, 0.5, 'PM 2.5')"
      ]
     },
     "execution_count": 30,
     "metadata": {},
     "output_type": "execute_result"
    },
    {
     "data": {
      "image/png": "[encoded data removed]",
      "text/plain": [
       "<Figure size 432x288 with 1 Axes>"
      ]
     },
     "metadata": {
      "needs_background": "light"
     },
     "output_type": "display_data"
    }
   ],
   "source": [
    "ax = new_year_eve.plot(x=\"Hour\", y=\"Value\", label=\"New Year Eve\")\n",
    "chinese_new_year_eve.plot(x=\"Hour\",y=\"Value\",label=\"Chinese New Year Eve\",ax=ax)\n",
    "hourly_average.plot(x='Hour',y='Value',label=\"Average Day\", ax=ax)\n",
    "ax.set_ylabel(\"PM 2.5\")"
   ]
  },
  {
   "cell_type": "markdown",
   "metadata": {},
   "source": [
    "### I also want to know in which month/months, Beijingers have better air."
   ]
  },
  {
   "cell_type": "code",
   "execution_count": 31,
   "metadata": {},
   "outputs": [
    {
     "data": {
      "text/html": [
       "<div>\n",
       "<style scoped>\n",
       "    .dataframe tbody tr th:only-of-type {\n",
       "        vertical-align: middle;\n",
       "    }\n",
       "\n",
       "    .dataframe tbody tr th {\n",
       "        vertical-align: top;\n",
       "    }\n",
       "\n",
       "    .dataframe thead th {\n",
       "        text-align: right;\n",
       "    }\n",
       "</style>\n",
       "<table border=\"1\" class=\"dataframe\">\n",
       "  <thead>\n",
       "    <tr style=\"text-align: right;\">\n",
       "      <th></th>\n",
       "      <th>Month</th>\n",
       "      <th>Value</th>\n",
       "    </tr>\n",
       "  </thead>\n",
       "  <tbody>\n",
       "    <tr>\n",
       "      <th>0</th>\n",
       "      <td>1</td>\n",
       "      <td>123.822888</td>\n",
       "    </tr>\n",
       "    <tr>\n",
       "      <th>1</th>\n",
       "      <td>2</td>\n",
       "      <td>76.159701</td>\n",
       "    </tr>\n",
       "    <tr>\n",
       "      <th>2</th>\n",
       "      <td>3</td>\n",
       "      <td>63.673854</td>\n",
       "    </tr>\n",
       "    <tr>\n",
       "      <th>3</th>\n",
       "      <td>4</td>\n",
       "      <td>55.723703</td>\n",
       "    </tr>\n",
       "    <tr>\n",
       "      <th>4</th>\n",
       "      <td>5</td>\n",
       "      <td>60.469003</td>\n",
       "    </tr>\n",
       "    <tr>\n",
       "      <th>5</th>\n",
       "      <td>6</td>\n",
       "      <td>40.134266</td>\n",
       "    </tr>\n",
       "  </tbody>\n",
       "</table>\n",
       "</div>"
      ],
      "text/plain": [
       "   Month       Value\n",
       "0      1  123.822888\n",
       "1      2   76.159701\n",
       "2      3   63.673854\n",
       "3      4   55.723703\n",
       "4      5   60.469003\n",
       "5      6   40.134266"
      ]
     },
     "execution_count": 31,
     "metadata": {},
     "output_type": "execute_result"
    }
   ],
   "source": [
    "month_average = air_2017[['Month','Value']].groupby(['Month']).mean().reset_index()\n",
    "month_average"
   ]
  },
  {
   "cell_type": "code",
   "execution_count": 32,
   "metadata": {},
   "outputs": [
    {
     "data": {
      "text/plain": [
       "[1, 2, 3, 4, 5, 6]"
      ]
     },
     "execution_count": 32,
     "metadata": {},
     "output_type": "execute_result"
    }
   ],
   "source": [
    "list(month_average['Month'])"
   ]
  },
  {
   "cell_type": "code",
   "execution_count": 33,
   "metadata": {},
   "outputs": [],
   "source": [
    "import matplotlib.pyplot as plt; plt.rcdefaults()\n",
    "import numpy as np\n",
    "import matplotlib.pyplot as plt"
   ]
  },
  {
   "cell_type": "code",
   "execution_count": 34,
   "metadata": {},
   "outputs": [
    {
     "data": {
      "text/plain": [
       "<BarContainer object of 6 artists>"
      ]
     },
     "execution_count": 34,
     "metadata": {},
     "output_type": "execute_result"
    },
    {
     "data": {
      "image/png": "[encoded data removed]",
      "text/plain": [
       "<Figure size 640x480 with 1 Axes>"
      ]
     },
     "metadata": {},
     "output_type": "display_data"
    }
   ],
   "source": [
    "plt.bar(list(month_average['Month']), list(month_average['Value']), align='center',alpha=0.5)"
   ]
  },
  {
   "cell_type": "code",
   "execution_count": 35,
   "metadata": {},
   "outputs": [
    {
     "data": {
      "text/plain": [
       "['Jan', 'Feb', 'Mar', 'Apr', 'May', 'Jun']"
      ]
     },
     "execution_count": 35,
     "metadata": {},
     "output_type": "execute_result"
    }
   ],
   "source": [
    "from datetime import date\n",
    "month_names = [date(2017,m,1).strftime('%b') for m in list(month_average['Month'])]\n",
    "month_names"
   ]
  },
  {
   "cell_type": "code",
   "execution_count": 36,
   "metadata": {},
   "outputs": [
    {
     "data": {
      "text/plain": [
       "<BarContainer object of 6 artists>"
      ]
     },
     "execution_count": 36,
     "metadata": {},
     "output_type": "execute_result"
    },
    {
     "data": {
      "image/png": "[encoded data removed]",
      "text/plain": [
       "<Figure size 640x480 with 1 Axes>"
      ]
     },
     "metadata": {},
     "output_type": "display_data"
    }
   ],
   "source": [
    "plt.bar(month_names, list(month_average['Value']), align='center',alpha=0.5)"
   ]
  },
  {
   "cell_type": "code",
   "execution_count": null,
   "metadata": {},
   "outputs": [],
   "source": []
  }
 ],
 "metadata": {
  "kernelspec": {
   "display_name": "Python 3",
   "language": "python",
   "name": "python3"
  },
  "language_info": {
   "codemirror_mode": {
    "name": "ipython",
    "version": 3
   },
   "file_extension": ".py",
   "mimetype": "text/x-python",
   "name": "python",
   "nbconvert_exporter": "python",
   "pygments_lexer": "ipython3",
   "version": "3.9.0"
  }
 },
 "nbformat": 4,
 "nbformat_minor": 4
}
